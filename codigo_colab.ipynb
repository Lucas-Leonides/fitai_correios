import openai
import requests
import gradio as gr
import time

# Substitua pela sua chave de API da OpenAI
openai.api_key = "chave da openai"

# ID da thread (substitua pelo seu ID de thread)
thread_id = "thread_54Bc527pWhkjE6yg56l0K6zn"

# ID do assistente (substitua pelo seu ID de assistente)
assistant_id = "asst_UHMqfU2Iip4y3BNeuoAjfKYZ"

# Cabeçalhos, incluindo o cabeçalho para acessar a API beta
headers = {
    "Authorization": f"Bearer {openai.api_key}",
    "OpenAI-Beta": "assistants=v2",
    "Content-Type": "application/json"
}

def enviar_mensagem(mensagem):
    """Função para enviar uma mensagem para a thread"""
    url = f"https://api.openai.com/v1/threads/{thread_id}/messages"
    
    # Corpo da requisição com a mensagem a ser enviada
    data = {
        "role": "user",  # Papel de quem está enviando a mensagem
        "content": [
            {
                "type": "text",
                "text": mensagem  # Texto da mensagem enviada pelo usuário
            }
        ]
    }
    
    # Enviar a mensagem usando requests
    response = requests.post(url, headers=headers, json=data)
    
    # Verificar a resposta
    if response.status_code == 200:
        print("Mensagem enviada com sucesso!")
    else:
        print(f"Erro: {response.status_code} - {response.text}")

def executar_run():
    """Função para iniciar uma execução na thread"""
    url = f"https://api.openai.com/v1/threads/{thread_id}/runs"
    
    # Corpo da requisição para iniciar a execução
    data = {
        "assistant_id": assistant_id,
        "additional_instructions": None,
        "tool_choice": None
    }

    # Enviar a requisição usando requests
    response = requests.post(url, headers=headers, json=data, stream=True)

    # Verificar a resposta
    if response.status_code == 200:
        print("Run iniciado com sucesso! Aguardando resposta...")
    else:
        print(f"Erro: {response.status_code} - {response.text}")

def formatar_resposta(resposta):
    """Função para formatar a resposta removendo caracteres e campos desnecessários"""
    # Remove o campo 'value' e 'annotations' da resposta
    if isinstance(resposta, dict) and 'value' in resposta:
        resposta_formatada = resposta['value']
    else:
        resposta_formatada = str(resposta)
    
    # Remove caracteres indesejados, como '\n'
    resposta_formatada = resposta_formatada.replace("\\n", "\n")
    
    return resposta_formatada

def obter_ultima_mensagem():
    """Função para obter a última mensagem da thread"""
    url_messages = f"https://api.openai.com/v1/threads/{thread_id}/messages"
    
    # Parâmetros da requisição para buscar apenas a mensagem mais recente
    params = {
        "limit": 1,  # Limita a quantidade de mensagens retornadas a 1
        "order": "desc"  # Ordena de forma decrescente (da mensagem mais recente para a mais antiga)
    }
    
    # Enviar a requisição para obter as mensagens da thread
    response_messages = requests.get(url_messages, headers=headers, params=params)
    
    if response_messages.status_code == 200:
        messages_data = response_messages.json()
        if messages_data['data']:
            latest_message = messages_data['data'][0]
            # Extrair apenas o valor da resposta
            response_text = latest_message['content'][0]['text']
            response_json = eval(response_text)  # Converter a string para um dicionário Python
            return formatar_resposta(response_json)  # Retorna apenas o texto formatado
        else:
            return "Nenhuma mensagem encontrada."
    else:
        return f"Erro ao listar mensagens: {response_messages.status_code} - {response_messages.text}"

# Função que integra as funções de envio e obtenção de resposta
def perguntar_e_responder(pergunta):
    enviar_mensagem(pergunta)
    executar_run()
    time.sleep(5)  # Pausa por 5 segundos para esperar a resposta ser gerada
    resposta = obter_ultima_mensagem()
    return resposta

# Interface Gradio
interface = gr.Interface(
    fn=perguntar_e_responder,
    inputs="text",
    outputs="text",
    title="Assistente OpenAI",
    description="Olá, seja bem-vindo ao FitaAI, seu assistente dos correios!"
)

# Executa a interface
interface.launch()
